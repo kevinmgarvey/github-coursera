{
 "cells": [
  {
   "cell_type": "markdown",
   "metadata": {},
   "source": [
    "<h2>Business Problem"
   ]
  },
  {
   "cell_type": "markdown",
   "metadata": {},
   "source": [
    "An online automotive parts business is growing rapidly and is looking to expand. The business is currently headquartered in Las Vegas, Nevada, and has a large warehouse onsite. Since this company ships products all over the United States, the business executives believe that it would be advantageous to locate the new warehouse in a strategic location. Several factors come into play. They would like to be located near their largest customer base to cut down on shipping costs. They would like to purchase an existing warehouse in an area that is affordable, to keep operational costs down. And finally, they would like an area that is not already saturated with similar businesses.     "
   ]
  },
  {
   "cell_type": "markdown",
   "metadata": {},
   "source": [
    "<h2> Data Sources"
   ]
  },
  {
   "cell_type": "markdown",
   "metadata": {},
   "source": [
    "The data needed to help solve this problem will have to come from a few different sources. To target the company’s biggest customer pools, we will have to use an invoice roster to view shipping addresses. We can add up which zip codes have the most traffic, both with the number of sales and total items shipped. It may also be helpful to look at the purchase price of items and factor that in. \n",
    "\n",
    "We can then merge this data by zip code with a csv file from Zillow, that shows median home cost. This is an accessible, and applicable data file that should help to identify areas that may have business real estate prices that are too high. \n",
    "\n",
    "Once our data is narrowed down to a few strategic locations, we will use Foursquare location data to see if there are already a high number of competitors in the area. \n"
   ]
  },
  {
   "cell_type": "code",
   "execution_count": null,
   "metadata": {},
   "outputs": [],
   "source": []
  }
 ],
 "metadata": {
  "kernelspec": {
   "display_name": "Python 3",
   "language": "python",
   "name": "python3"
  },
  "language_info": {
   "codemirror_mode": {
    "name": "ipython",
    "version": 3
   },
   "file_extension": ".py",
   "mimetype": "text/x-python",
   "name": "python",
   "nbconvert_exporter": "python",
   "pygments_lexer": "ipython3",
   "version": "3.7.3"
  }
 },
 "nbformat": 4,
 "nbformat_minor": 2
}
